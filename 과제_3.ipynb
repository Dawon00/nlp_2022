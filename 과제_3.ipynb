{
  "nbformat": 4,
  "nbformat_minor": 0,
  "metadata": {
    "colab": {
      "provenance": [],
      "authorship_tag": "ABX9TyMuAwMHzI1G8hzFHqkBUJdT",
      "include_colab_link": true
    },
    "kernelspec": {
      "name": "python3",
      "display_name": "Python 3"
    },
    "language_info": {
      "name": "python"
    }
  },
  "cells": [
    {
      "cell_type": "markdown",
      "metadata": {
        "id": "view-in-github",
        "colab_type": "text"
      },
      "source": [
        "<a href=\"https://colab.research.google.com/github/Dawon00/nlp_2022/blob/main/%EA%B3%BC%EC%A0%9C_3.ipynb\" target=\"_parent\"><img src=\"https://colab.research.google.com/assets/colab-badge.svg\" alt=\"Open In Colab\"/></a>"
      ]
    },
    {
      "cell_type": "code",
      "execution_count": 9,
      "metadata": {
        "colab": {
          "base_uri": "https://localhost:8080/"
        },
        "id": "NZE9ohhiNnM-",
        "outputId": "1b9bd07c-9024-436f-cf1a-013dc3feda24"
      },
      "outputs": [
        {
          "output_type": "stream",
          "name": "stdout",
          "text": [
            "Epoch 1/5\n",
            "469/469 [==============================] - 6s 11ms/step - loss: 0.2590 - accuracy: 0.9243\n",
            "Epoch 2/5\n",
            "469/469 [==============================] - 5s 11ms/step - loss: 0.1032 - accuracy: 0.9698\n",
            "Epoch 3/5\n",
            "469/469 [==============================] - 5s 11ms/step - loss: 0.0679 - accuracy: 0.9800\n",
            "Epoch 4/5\n",
            "469/469 [==============================] - 5s 11ms/step - loss: 0.0489 - accuracy: 0.9853\n",
            "Epoch 5/5\n",
            "469/469 [==============================] - 5s 11ms/step - loss: 0.0373 - accuracy: 0.9886\n"
          ]
        },
        {
          "output_type": "execute_result",
          "data": {
            "text/plain": [
              "<keras.callbacks.History at 0x7f33eb6a7110>"
            ]
          },
          "metadata": {},
          "execution_count": 9
        }
      ],
      "source": [
        "# Loading the MNIST dataset\n",
        "from keras.datasets import mnist\n",
        "(train_images, train_labels), (test_images, test_labels) = mnist.load_data()\n",
        "\n",
        "from keras import models\n",
        "from keras import layers\n",
        "\n",
        "# Network architecture\n",
        "network = models.Sequential()\n",
        "network.add(layers.Dense(512, activation='relu', input_shape=(28 * 28,)))\n",
        "network.add(layers.Dense(10, activation='softmax'))\n",
        "# The compilation step\n",
        "network.compile(optimizer='rmsprop', loss='categorical_crossentropy', metrics=['accuracy'])\n",
        "\n",
        "# Preparing image data\n",
        "train_images = train_images.reshape((60000, 28 * 28))\n",
        "train_images = train_images.astype('float32') / 255\n",
        "test_images = test_images.reshape((10000, 28 * 28))\n",
        "test_images = test_images.astype('float32') / 255\n",
        "\n",
        "# Preparing the labels\n",
        "from tensorflow.keras.utils import to_categorical\n",
        "train_labels = to_categorical(train_labels)\n",
        "test_labels = to_categorical(test_labels)\n",
        "# Fit the model to training data\n",
        "network.fit(train_images, train_labels, epochs=5, batch_size=128)\n"
      ]
    },
    {
      "cell_type": "code",
      "source": [
        "# Loading the MNIST dataset\n",
        "from keras.datasets import mnist\n",
        "(train_images, train_labels), (test_images, test_labels) = mnist.load_data()\n",
        "\n",
        "from keras import models\n",
        "from keras import layers\n",
        "\n",
        "# Network architecture\n",
        "network = models.Sequential()\n",
        "network.add(layers.Dense(512, activation='relu', input_shape=(28 * 28,)))\n",
        "network.add(layers.Dense(10, activation='softmax'))\n",
        "# The compilation step\n",
        "network.compile(optimizer='rmsprop', loss='categorical_crossentropy', metrics=['accuracy'])\n",
        "\n",
        "# Preparing image data\n",
        "train_images = train_images.reshape((60000, 28 * 28))\n",
        "train_images = train_images.astype('float32') / 255\n",
        "test_images = test_images.reshape((10000, 28 * 28))\n",
        "test_images = test_images.astype('float32') / 255\n",
        "\n",
        "# Preparing the labels\n",
        "from tensorflow.keras.utils import to_categorical\n",
        "train_labels = to_categorical(train_labels)\n",
        "test_labels = to_categorical(test_labels)\n",
        "# Fit the model to training data\n",
        "network.fit(train_images, train_labels, epochs=10, batch_size=128)"
      ],
      "metadata": {
        "colab": {
          "base_uri": "https://localhost:8080/"
        },
        "id": "ckEw25aPOlrB",
        "outputId": "741602a2-f436-4ee7-e873-3e26bd2a3ba9"
      },
      "execution_count": 6,
      "outputs": [
        {
          "output_type": "stream",
          "name": "stdout",
          "text": [
            "Epoch 1/10\n",
            "469/469 [==============================] - 6s 11ms/step - loss: 0.2554 - accuracy: 0.9266\n",
            "Epoch 2/10\n",
            "469/469 [==============================] - 5s 11ms/step - loss: 0.1037 - accuracy: 0.9691\n",
            "Epoch 3/10\n",
            "469/469 [==============================] - 5s 11ms/step - loss: 0.0688 - accuracy: 0.9795\n",
            "Epoch 4/10\n",
            "469/469 [==============================] - 5s 11ms/step - loss: 0.0508 - accuracy: 0.9842\n",
            "Epoch 5/10\n",
            "469/469 [==============================] - 6s 12ms/step - loss: 0.0385 - accuracy: 0.9883\n",
            "Epoch 6/10\n",
            "469/469 [==============================] - 5s 11ms/step - loss: 0.0291 - accuracy: 0.9916\n",
            "Epoch 7/10\n",
            "469/469 [==============================] - 5s 11ms/step - loss: 0.0220 - accuracy: 0.9934\n",
            "Epoch 8/10\n",
            "469/469 [==============================] - 5s 11ms/step - loss: 0.0174 - accuracy: 0.9947\n",
            "Epoch 9/10\n",
            "469/469 [==============================] - 5s 11ms/step - loss: 0.0135 - accuracy: 0.9960\n",
            "Epoch 10/10\n",
            "469/469 [==============================] - 5s 11ms/step - loss: 0.0110 - accuracy: 0.9968\n"
          ]
        },
        {
          "output_type": "execute_result",
          "data": {
            "text/plain": [
              "<keras.callbacks.History at 0x7f33eba4aa10>"
            ]
          },
          "metadata": {},
          "execution_count": 6
        }
      ]
    },
    {
      "cell_type": "code",
      "source": [
        "# Loading the MNIST dataset\n",
        "from keras.datasets import mnist\n",
        "(train_images, train_labels), (test_images, test_labels) = mnist.load_data()\n",
        "\n",
        "from keras import models\n",
        "from keras import layers\n",
        "\n",
        "# Network architecture\n",
        "network = models.Sequential()\n",
        "network.add(layers.Dense(256, activation='relu', input_shape=(28 * 28,)))\n",
        "network.add(layers.Dense(10, activation='softmax'))\n",
        "# The compilation step\n",
        "network.compile(optimizer='rmsprop', loss='categorical_crossentropy', metrics=['accuracy'])\n",
        "\n",
        "# Preparing image data\n",
        "train_images = train_images.reshape((60000, 28 * 28))\n",
        "train_images = train_images.astype('float32') / 255\n",
        "test_images = test_images.reshape((10000, 28 * 28))\n",
        "test_images = test_images.astype('float32') / 255\n",
        "\n",
        "# Preparing the labels\n",
        "from tensorflow.keras.utils import to_categorical\n",
        "train_labels = to_categorical(train_labels)\n",
        "test_labels = to_categorical(test_labels)\n",
        "# Fit the model to training data\n",
        "network.fit(train_images, train_labels, epochs=5, batch_size=128)\n"
      ],
      "metadata": {
        "colab": {
          "base_uri": "https://localhost:8080/"
        },
        "id": "bMv0Cp40Pz4j",
        "outputId": "0113a88c-49f0-4279-df45-2e819c5d72aa"
      },
      "execution_count": 7,
      "outputs": [
        {
          "output_type": "stream",
          "name": "stdout",
          "text": [
            "Epoch 1/5\n",
            "469/469 [==============================] - 4s 8ms/step - loss: 0.2914 - accuracy: 0.9191\n",
            "Epoch 2/5\n",
            "469/469 [==============================] - 4s 8ms/step - loss: 0.1293 - accuracy: 0.9622\n",
            "Epoch 3/5\n",
            "469/469 [==============================] - 4s 9ms/step - loss: 0.0886 - accuracy: 0.9741\n",
            "Epoch 4/5\n",
            "469/469 [==============================] - 3s 7ms/step - loss: 0.0668 - accuracy: 0.9797\n",
            "Epoch 5/5\n",
            "469/469 [==============================] - 3s 7ms/step - loss: 0.0525 - accuracy: 0.9845\n"
          ]
        },
        {
          "output_type": "execute_result",
          "data": {
            "text/plain": [
              "<keras.callbacks.History at 0x7f33eb92b090>"
            ]
          },
          "metadata": {},
          "execution_count": 7
        }
      ]
    },
    {
      "cell_type": "code",
      "source": [
        "# Loading the MNIST dataset\n",
        "from keras.datasets import mnist\n",
        "(train_images, train_labels), (test_images, test_labels) = mnist.load_data()\n",
        "\n",
        "from keras import models\n",
        "from keras import layers\n",
        "\n",
        "# Network architecture\n",
        "network = models.Sequential()\n",
        "network.add(layers.Dense(1024, activation='relu', input_shape=(28 * 28,)))\n",
        "network.add(layers.Dense(10, activation='softmax'))\n",
        "# The compilation step\n",
        "network.compile(optimizer='rmsprop', loss='categorical_crossentropy', metrics=['accuracy'])\n",
        "\n",
        "# Preparing image data\n",
        "train_images = train_images.reshape((60000, 28 * 28))\n",
        "train_images = train_images.astype('float32') / 255\n",
        "test_images = test_images.reshape((10000, 28 * 28))\n",
        "test_images = test_images.astype('float32') / 255\n",
        "\n",
        "# Preparing the labels\n",
        "from tensorflow.keras.utils import to_categorical\n",
        "train_labels = to_categorical(train_labels)\n",
        "test_labels = to_categorical(test_labels)\n",
        "# Fit the model to training data\n",
        "network.fit(train_images, train_labels, epochs=5, batch_size=128)\n"
      ],
      "metadata": {
        "colab": {
          "base_uri": "https://localhost:8080/"
        },
        "id": "BVXjRZGLP73Y",
        "outputId": "82eb608a-fcff-4ae9-8c02-d53f91529b6c"
      },
      "execution_count": 8,
      "outputs": [
        {
          "output_type": "stream",
          "name": "stdout",
          "text": [
            "Epoch 1/5\n",
            "469/469 [==============================] - 10s 20ms/step - loss: 0.2320 - accuracy: 0.9319\n",
            "Epoch 2/5\n",
            "469/469 [==============================] - 8s 18ms/step - loss: 0.0864 - accuracy: 0.9738\n",
            "Epoch 3/5\n",
            "469/469 [==============================] - 8s 18ms/step - loss: 0.0562 - accuracy: 0.9832\n",
            "Epoch 4/5\n",
            "469/469 [==============================] - 8s 18ms/step - loss: 0.0402 - accuracy: 0.9874\n",
            "Epoch 5/5\n",
            "469/469 [==============================] - 8s 18ms/step - loss: 0.0287 - accuracy: 0.9915\n"
          ]
        },
        {
          "output_type": "execute_result",
          "data": {
            "text/plain": [
              "<keras.callbacks.History at 0x7f33eb7d9710>"
            ]
          },
          "metadata": {},
          "execution_count": 8
        }
      ]
    },
    {
      "cell_type": "code",
      "source": [
        "from keras.datasets import imdb\n",
        "(train_data, train_labels), (test_data, test_labels) = imdb.load_data( num_words=10000)\n",
        "\n",
        "import numpy as np\n",
        "# 입력 텍스트 vectorization\n",
        "def vectorize_sequences(sequences, dimension=10000): \n",
        "\tresults = np.zeros((len(sequences), dimension)) \n",
        "\tfor i, sequence in enumerate(sequences): \n",
        "\t\tresults[i, sequence] = 1. \n",
        "\treturn results \n",
        "\n",
        "x_train = vectorize_sequences(train_data) \n",
        "x_test = vectorize_sequences(test_data)\n",
        "y_train = np.asarray(train_labels).astype('float32')\n",
        "y_test = np.asarray(test_labels).astype('float32')\n",
        "\n",
        "from keras import models \n",
        "from keras import layers\n",
        "\n",
        "model = models.Sequential() \n",
        "model.add(layers.Dense(16, activation='relu', input_shape=(10000,))) \n",
        "model.add(layers.Dense(16, activation='relu')) \n",
        "model.add(layers.Dense(1, activation='sigmoid'))\n",
        "\n",
        "model.compile(optimizer='rmsprop', loss='binary_crossentropy', metrics=['accuracy'])\n",
        "\n",
        "model.fit(x_train, y_train, epochs=6, batch_size=512)\n",
        "results = model.evaluate(x_test, y_test)\n",
        "\n",
        "print('\\n-----------------------------\\n')\n",
        "\n",
        "history_dict = model.fit(x_train, y_train, epochs=40, batch_size=512)\n",
        "# print(history_dict.history.keys())\n",
        "import matplotlib.pyplot as plt\n",
        "\n",
        "accuracy = history_dict.history['accuracy']\n",
        "loss = history_dict.history['loss']\n",
        "\n",
        "epochs = range(1, len(accuracy) + 1)\n",
        "\n",
        "plt.plot(epochs, loss, 'b', label='loss')\n",
        "plt.title('Loss')\n",
        "plt.xlabel('Epochs')\n",
        "plt.ylabel('Loss')\n",
        "plt.legend()\n",
        "\n",
        "plt.show()\n",
        "\n",
        "plt.clf()   # 그림을 초기화\n",
        "\n",
        "plt.plot(epochs, accuracy, 'b', label='accuracy')\n",
        "plt.title('Accuracy')\n",
        "plt.xlabel('Epochs')\n",
        "plt.ylabel('Accuracy')\n",
        "plt.legend()\n",
        "\n",
        "plt.show()"
      ],
      "metadata": {
        "colab": {
          "base_uri": "https://localhost:8080/",
          "height": 1000
        },
        "id": "AvKC15s2RgHP",
        "outputId": "30ab0c1f-d833-4f80-c96b-2d71917135cd"
      },
      "execution_count": 18,
      "outputs": [
        {
          "output_type": "stream",
          "name": "stdout",
          "text": [
            "Epoch 1/6\n",
            "49/49 [==============================] - 2s 29ms/step - loss: 0.4952 - accuracy: 0.8181\n",
            "Epoch 2/6\n",
            "49/49 [==============================] - 1s 29ms/step - loss: 0.2760 - accuracy: 0.9095\n",
            "Epoch 3/6\n",
            "49/49 [==============================] - 1s 28ms/step - loss: 0.2069 - accuracy: 0.9263\n",
            "Epoch 4/6\n",
            "49/49 [==============================] - 1s 29ms/step - loss: 0.1728 - accuracy: 0.9396\n",
            "Epoch 5/6\n",
            "49/49 [==============================] - 1s 28ms/step - loss: 0.1482 - accuracy: 0.9492\n",
            "Epoch 6/6\n",
            "49/49 [==============================] - 1s 28ms/step - loss: 0.1316 - accuracy: 0.9541\n",
            "782/782 [==============================] - 2s 2ms/step - loss: 0.3305 - accuracy: 0.8758\n",
            "\n",
            "-----------------------------\n",
            "\n",
            "Epoch 1/40\n",
            "49/49 [==============================] - 1s 30ms/step - loss: 0.1146 - accuracy: 0.9612\n",
            "Epoch 2/40\n",
            "49/49 [==============================] - 1s 29ms/step - loss: 0.1039 - accuracy: 0.9647\n",
            "Epoch 3/40\n",
            "49/49 [==============================] - 1s 29ms/step - loss: 0.0913 - accuracy: 0.9708\n",
            "Epoch 4/40\n",
            "49/49 [==============================] - 1s 29ms/step - loss: 0.0811 - accuracy: 0.9740\n",
            "Epoch 5/40\n",
            "49/49 [==============================] - 1s 29ms/step - loss: 0.0720 - accuracy: 0.9780\n",
            "Epoch 6/40\n",
            "49/49 [==============================] - 1s 29ms/step - loss: 0.0639 - accuracy: 0.9806\n",
            "Epoch 7/40\n",
            "49/49 [==============================] - 1s 29ms/step - loss: 0.0563 - accuracy: 0.9828\n",
            "Epoch 8/40\n",
            "49/49 [==============================] - 1s 30ms/step - loss: 0.0493 - accuracy: 0.9858\n",
            "Epoch 9/40\n",
            "49/49 [==============================] - 1s 29ms/step - loss: 0.0429 - accuracy: 0.9883\n",
            "Epoch 10/40\n",
            "49/49 [==============================] - 1s 29ms/step - loss: 0.0357 - accuracy: 0.9910\n",
            "Epoch 11/40\n",
            "49/49 [==============================] - 1s 29ms/step - loss: 0.0339 - accuracy: 0.9910\n",
            "Epoch 12/40\n",
            "49/49 [==============================] - 2s 39ms/step - loss: 0.0262 - accuracy: 0.9936\n",
            "Epoch 13/40\n",
            "49/49 [==============================] - 3s 62ms/step - loss: 0.0254 - accuracy: 0.9942\n",
            "Epoch 14/40\n",
            "49/49 [==============================] - 3s 61ms/step - loss: 0.0192 - accuracy: 0.9958\n",
            "Epoch 15/40\n",
            "49/49 [==============================] - 2s 35ms/step - loss: 0.0176 - accuracy: 0.9956\n",
            "Epoch 16/40\n",
            "49/49 [==============================] - 1s 29ms/step - loss: 0.0143 - accuracy: 0.9970\n",
            "Epoch 17/40\n",
            "49/49 [==============================] - 1s 29ms/step - loss: 0.0111 - accuracy: 0.9978\n",
            "Epoch 18/40\n",
            "49/49 [==============================] - 1s 29ms/step - loss: 0.0104 - accuracy: 0.9975\n",
            "Epoch 19/40\n",
            "49/49 [==============================] - 1s 29ms/step - loss: 0.0085 - accuracy: 0.9987\n",
            "Epoch 20/40\n",
            "49/49 [==============================] - 1s 30ms/step - loss: 0.0073 - accuracy: 0.9986\n",
            "Epoch 21/40\n",
            "49/49 [==============================] - 1s 29ms/step - loss: 0.0067 - accuracy: 0.9986\n",
            "Epoch 22/40\n",
            "49/49 [==============================] - 1s 29ms/step - loss: 0.0055 - accuracy: 0.9988\n",
            "Epoch 23/40\n",
            "49/49 [==============================] - 1s 29ms/step - loss: 0.0049 - accuracy: 0.9993\n",
            "Epoch 24/40\n",
            "49/49 [==============================] - 1s 29ms/step - loss: 0.0036 - accuracy: 0.9993\n",
            "Epoch 25/40\n",
            "49/49 [==============================] - 1s 29ms/step - loss: 0.0061 - accuracy: 0.9986\n",
            "Epoch 26/40\n",
            "49/49 [==============================] - 1s 29ms/step - loss: 0.0012 - accuracy: 1.0000\n",
            "Epoch 27/40\n",
            "49/49 [==============================] - 1s 30ms/step - loss: 0.0026 - accuracy: 0.9993\n",
            "Epoch 28/40\n",
            "49/49 [==============================] - 1s 29ms/step - loss: 0.0033 - accuracy: 0.9992\n",
            "Epoch 29/40\n",
            "49/49 [==============================] - 1s 29ms/step - loss: 5.9003e-04 - accuracy: 1.0000\n",
            "Epoch 30/40\n",
            "49/49 [==============================] - 1s 29ms/step - loss: 0.0027 - accuracy: 0.9992\n",
            "Epoch 31/40\n",
            "49/49 [==============================] - 1s 29ms/step - loss: 3.5196e-04 - accuracy: 1.0000\n",
            "Epoch 32/40\n",
            "49/49 [==============================] - 1s 29ms/step - loss: 0.0042 - accuracy: 0.9987\n",
            "Epoch 33/40\n",
            "49/49 [==============================] - 1s 29ms/step - loss: 2.1399e-04 - accuracy: 1.0000\n",
            "Epoch 34/40\n",
            "49/49 [==============================] - 2s 31ms/step - loss: 0.0031 - accuracy: 0.9994\n",
            "Epoch 35/40\n",
            "49/49 [==============================] - 2s 37ms/step - loss: 1.5508e-04 - accuracy: 1.0000\n",
            "Epoch 36/40\n",
            "49/49 [==============================] - 2s 43ms/step - loss: 0.0041 - accuracy: 0.9990\n",
            "Epoch 37/40\n",
            "49/49 [==============================] - 2s 33ms/step - loss: 9.7178e-05 - accuracy: 1.0000\n",
            "Epoch 38/40\n",
            "49/49 [==============================] - 1s 29ms/step - loss: 0.0020 - accuracy: 0.9995\n",
            "Epoch 39/40\n",
            "49/49 [==============================] - 1s 30ms/step - loss: 7.9757e-05 - accuracy: 1.0000\n",
            "Epoch 40/40\n",
            "49/49 [==============================] - 2s 42ms/step - loss: 0.0031 - accuracy: 0.9992\n"
          ]
        },
        {
          "output_type": "display_data",
          "data": {
            "text/plain": [
              "<Figure size 432x288 with 1 Axes>"
            ],
            "image/png": "[encoded data removed]"
          },
          "metadata": {
            "needs_background": "light"
          }
        },
        {
          "output_type": "display_data",
          "data": {
            "text/plain": [
              "<Figure size 432x288 with 1 Axes>"
            ],
            "image/png": "[encoded data removed]"
          },
          "metadata": {
            "needs_background": "light"
          }
        }
      ]
    }
  ]
}